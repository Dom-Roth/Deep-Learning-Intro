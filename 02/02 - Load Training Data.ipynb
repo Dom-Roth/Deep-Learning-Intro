{
 "cells": [
  {
   "cell_type": "code",
   "execution_count": 1,
   "id": "adopted-wrapping",
   "metadata": {},
   "outputs": [
    {
     "name": "stdout",
     "output_type": "stream",
     "text": [
      "/home/dcpacky/PycharmProjects/deep-learning-intro/02/PetImages\n"
     ]
    }
   ],
   "source": [
    "import numpy as np\n",
    "import matplotlib.pyplot as plt\n",
    "import os\n",
    "import cv2\n",
    "from tqdm import tqdm\n",
    "\n",
    "DATADIR = f'{os.path.abspath(os.getcwd())}/PetImages'\n",
    "CATEGORIES = ['Dog', 'Cat']\n",
    "\n",
    "IMG_SIZE = 50\n",
    "\n",
    "print(DATADIR)\n",
    "\n"
   ]
  },
  {
   "cell_type": "code",
   "execution_count": 2,
   "id": "perceived-envelope",
   "metadata": {},
   "outputs": [
    {
     "name": "stderr",
     "output_type": "stream",
     "text": [
      "  0%|          | 51/12501 [00:00<00:24, 509.96it/s]"
     ]
    },
    {
     "name": "stdout",
     "output_type": "stream",
     "text": [
      "/home/dcpacky/PycharmProjects/deep-learning-intro/02/PetImages/Dog\n"
     ]
    },
    {
     "name": "stderr",
     "output_type": "stream",
     "text": [
      "100%|██████████| 12501/12501 [00:13<00:00, 951.62it/s] \n",
      "  0%|          | 29/12501 [00:00<00:43, 288.34it/s]"
     ]
    },
    {
     "name": "stdout",
     "output_type": "stream",
     "text": [
      "/home/dcpacky/PycharmProjects/deep-learning-intro/02/PetImages/Cat\n"
     ]
    },
    {
     "name": "stderr",
     "output_type": "stream",
     "text": [
      "100%|██████████| 12501/12501 [00:13<00:00, 939.30it/s] \n"
     ]
    }
   ],
   "source": [
    "# Preperation of data\n",
    "\n",
    "training_data = []\n",
    "def create_training_data():\n",
    "    for category in CATEGORIES:\n",
    "        path = os.path.join(DATADIR, category) # path to cats or dogs dir\n",
    "        class_num = CATEGORIES.index(category)\n",
    "        print(path)\n",
    "        for img in tqdm(os.listdir(path)):  # iterate over each image per dogs and cats\n",
    "            try:\n",
    "                img_array = cv2.imread(os.path.join(path,img) ,cv2.IMREAD_GRAYSCALE)  # convert to array\n",
    "                new_array = cv2.resize(img_array, (IMG_SIZE, IMG_SIZE))  # resize to normalize data size\n",
    "                \n",
    "                # Debug\n",
    "                # plt.imshow(new_array, cmap='gray')\n",
    "                # plt.show()\n",
    "                # break\n",
    "                # print(f'{new_array} - {class_num}')\n",
    "                \n",
    "                training_data.append([new_array, class_num])  # add this to our training_data\n",
    "            except:\n",
    "                pass\n",
    "            #except OSError as e:\n",
    "            #    print(\"OSErrroBad img most likely\", e, os.path.join(path,img))\n",
    "            #except Exception as e:\n",
    "            #    print(\"general exception\", e, os.path.join(path,img))\n",
    "        \n",
    "create_training_data()\n"
   ]
  },
  {
   "cell_type": "code",
   "execution_count": 3,
   "id": "sporting-mississippi",
   "metadata": {},
   "outputs": [
    {
     "name": "stdout",
     "output_type": "stream",
     "text": [
      "24946\n"
     ]
    }
   ],
   "source": [
    "print(len(training_data))"
   ]
  },
  {
   "cell_type": "code",
   "execution_count": 11,
   "id": "universal-seafood",
   "metadata": {},
   "outputs": [],
   "source": [
    "import random\n",
    "random.shuffle(training_data)"
   ]
  },
  {
   "cell_type": "code",
   "execution_count": 12,
   "id": "presidential-watch",
   "metadata": {},
   "outputs": [
    {
     "name": "stdout",
     "output_type": "stream",
     "text": [
      "0\n",
      "1\n",
      "1\n",
      "1\n",
      "1\n",
      "0\n",
      "0\n",
      "0\n",
      "0\n",
      "0\n"
     ]
    }
   ],
   "source": [
    "for sample in training_data[:10]:\n",
    "    print(sample[1])"
   ]
  },
  {
   "cell_type": "code",
   "execution_count": 13,
   "id": "certified-evidence",
   "metadata": {},
   "outputs": [],
   "source": [
    "X = []\n",
    "y = []"
   ]
  },
  {
   "cell_type": "code",
   "execution_count": 14,
   "id": "guilty-petersburg",
   "metadata": {},
   "outputs": [],
   "source": [
    "for features, label in training_data:\n",
    "    X.append(features)\n",
    "    y.append(label)\n",
    "    \n",
    "X = np.array(X).reshape(-1, IMG_SIZE, IMG_SIZE, 1)"
   ]
  },
  {
   "cell_type": "code",
   "execution_count": 15,
   "id": "hydraulic-cycle",
   "metadata": {},
   "outputs": [],
   "source": [
    "import pickle\n",
    "\n",
    "pickle_out = open(\"X.pickle\", \"wb\")\n",
    "pickle.dump(X, pickle_out)\n",
    "pickle_out.close()\n",
    "\n",
    "pickle_out = open(\"y.pickle\", \"wb\")\n",
    "pickle.dump(y, pickle_out)\n",
    "pickle_out.close()"
   ]
  },
  {
   "cell_type": "code",
   "execution_count": 16,
   "id": "cathedral-condition",
   "metadata": {},
   "outputs": [],
   "source": [
    "pickle_in = open(\"X.pickle\", \"rb\")\n",
    "X = pickle.load(pickle_in)"
   ]
  },
  {
   "cell_type": "code",
   "execution_count": 17,
   "id": "alpha-fishing",
   "metadata": {},
   "outputs": [
    {
     "data": {
      "text/plain": [
       "array([[[151],\n",
       "        [211],\n",
       "        [241],\n",
       "        ...,\n",
       "        [ 59],\n",
       "        [ 60],\n",
       "        [ 60]],\n",
       "\n",
       "       [[149],\n",
       "        [233],\n",
       "        [221],\n",
       "        ...,\n",
       "        [ 60],\n",
       "        [ 60],\n",
       "        [ 60]],\n",
       "\n",
       "       [[182],\n",
       "        [213],\n",
       "        [236],\n",
       "        ...,\n",
       "        [ 62],\n",
       "        [ 63],\n",
       "        [ 63]],\n",
       "\n",
       "       ...,\n",
       "\n",
       "       [[190],\n",
       "        [157],\n",
       "        [ 63],\n",
       "        ...,\n",
       "        [189],\n",
       "        [193],\n",
       "        [194]],\n",
       "\n",
       "       [[186],\n",
       "        [178],\n",
       "        [ 61],\n",
       "        ...,\n",
       "        [251],\n",
       "        [254],\n",
       "        [254]],\n",
       "\n",
       "       [[ 23],\n",
       "        [ 34],\n",
       "        [ 56],\n",
       "        ...,\n",
       "        [230],\n",
       "        [211],\n",
       "        [189]]], dtype=uint8)"
      ]
     },
     "execution_count": 17,
     "metadata": {},
     "output_type": "execute_result"
    }
   ],
   "source": [
    "X[1]"
   ]
  },
  {
   "cell_type": "code",
   "execution_count": null,
   "id": "tight-progress",
   "metadata": {},
   "outputs": [],
   "source": []
  }
 ],
 "metadata": {
  "kernelspec": {
   "display_name": "Python 3",
   "language": "python",
   "name": "python3"
  },
  "language_info": {
   "codemirror_mode": {
    "name": "ipython",
    "version": 3
   },
   "file_extension": ".py",
   "mimetype": "text/x-python",
   "name": "python",
   "nbconvert_exporter": "python",
   "pygments_lexer": "ipython3",
   "version": "3.8.6"
  }
 },
 "nbformat": 4,
 "nbformat_minor": 5
}
